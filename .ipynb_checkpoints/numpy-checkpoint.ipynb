{
 "cells": [
  {
   "cell_type": "code",
   "execution_count": 3,
   "id": "64397599-d29c-4983-a4de-cd19a016b656",
   "metadata": {},
   "outputs": [
    {
     "name": "stdout",
     "output_type": "stream",
     "text": [
      "{\n",
      "  \"shell_port\": 52333,\n",
      "  \"iopub_port\": 52334,\n",
      "  \"stdin_port\": 52335,\n",
      "  \"control_port\": 52337,\n",
      "  \"hb_port\": 52336,\n",
      "  \"ip\": \"127.0.0.1\",\n",
      "  \"key\": \"a53eadc7-fcfbf93637163a003c8ac2d0\",\n",
      "  \"transport\": \"tcp\",\n",
      "  \"signature_scheme\": \"hmac-sha256\",\n",
      "  \"kernel_name\": \"python3\",\n",
      "  \"jupyter_session\": \"/Users/mathavana/Projects/NTU_DS_AI/5m-data-1.6-intro-numpy/Untitled.ipynb\"\n",
      "}\n",
      "\n",
      "Paste the above JSON into a file, and connect with:\n",
      "    $> jupyter <app> --existing <file>\n",
      "or, if you are local, you can connect with just:\n",
      "    $> jupyter <app> --existing kernel-4c8206eb-f3de-4024-8dfa-1c0c05f59bbe.json\n",
      "or even just:\n",
      "    $> jupyter <app> --existing\n",
      "if this is the most recent Jupyter kernel you have started.\n"
     ]
    }
   ],
   "source": [
    "%connect_info"
   ]
  },
  {
   "cell_type": "markdown",
   "id": "fc661370-630f-47ea-8cfd-4418173a11a5",
   "metadata": {},
   "source": [
    "## Get to know Jupyter"
   ]
  },
  {
   "cell_type": "code",
   "execution_count": 6,
   "id": "6406fae4-1b55-4ef5-a359-14bceb422944",
   "metadata": {},
   "outputs": [],
   "source": [
    "import numpy as np"
   ]
  },
  {
   "cell_type": "code",
   "execution_count": 15,
   "id": "c5df3c1e-c5b3-4d15-a27e-9cafd0a03b70",
   "metadata": {},
   "outputs": [
    {
     "name": "stdout",
     "output_type": "stream",
     "text": [
      "[ 7  2 11  3  4  6  0  1  5  9 10  8]\n"
     ]
    }
   ],
   "source": [
    "from numpy.random import permutation \n",
    "a = permutation(12)\n",
    "print(a)"
   ]
  },
  {
   "cell_type": "code",
   "execution_count": 19,
   "id": "b0e01d77-18c9-45b5-85c5-a97226194b6a",
   "metadata": {},
   "outputs": [
    {
     "data": {
      "text/plain": [
       "array([127, 127, 126], dtype=int8)"
      ]
     },
     "execution_count": 19,
     "metadata": {},
     "output_type": "execute_result"
    }
   ],
   "source": [
    "np.array([127, 127, 126], dtype=np.int8)"
   ]
  },
  {
   "cell_type": "code",
   "execution_count": 20,
   "id": "eacc16e2-0868-4707-9143-44712e1d5883",
   "metadata": {},
   "outputs": [],
   "source": [
    "a = np.array([2, 3, 4], dtype=np.uint32)\n",
    "b = np.array([5, 6, 7], dtype=np.uint32)\n",
    "c_unsigned32 = a - b"
   ]
  },
  {
   "cell_type": "code",
   "execution_count": 23,
   "id": "e0e07ad1-8837-415b-a574-41976d6ae19e",
   "metadata": {},
   "outputs": [
    {
     "name": "stdout",
     "output_type": "stream",
     "text": [
      "[4294967293 4294967293 4294967293]\n"
     ]
    }
   ],
   "source": [
    "print(c_unsigned32)"
   ]
  },
  {
   "cell_type": "code",
   "execution_count": 25,
   "id": "a74c6bac-a0bf-42e0-8d1d-31f5cdbf3d4f",
   "metadata": {},
   "outputs": [
    {
     "name": "stdout",
     "output_type": "stream",
     "text": [
      "[-3 -3 -3]\n"
     ]
    }
   ],
   "source": [
    "a = np.array([2, 3, 4], dtype=np.uint32)\n",
    "b = np.array([5, 6, 7], dtype=np.uint32)\n",
    "c_signed32 = a - b.astype(np.int32)\n",
    "print (c_signed32)"
   ]
  },
  {
   "cell_type": "markdown",
   "id": "37dee064-5d35-474e-ae3a-a7c930140a3f",
   "metadata": {},
   "source": [
    "### 1D array creation through np.arange() and np.linspace"
   ]
  },
  {
   "cell_type": "code",
   "execution_count": 26,
   "id": "e10da482-c0e2-4298-97a3-6e55f0a58a80",
   "metadata": {},
   "outputs": [
    {
     "data": {
      "text/plain": [
       "array([0, 1, 2, 3, 4, 5, 6, 7, 8, 9])"
      ]
     },
     "execution_count": 26,
     "metadata": {},
     "output_type": "execute_result"
    }
   ],
   "source": [
    "np.arange(10)"
   ]
  },
  {
   "cell_type": "code",
   "execution_count": 31,
   "id": "a682d199-de6d-45d7-8321-b9c318c9c357",
   "metadata": {},
   "outputs": [
    {
     "data": {
      "text/plain": [
       "array([0., 1., 2., 3., 4., 5., 6., 7., 8., 9.])"
      ]
     },
     "execution_count": 31,
     "metadata": {},
     "output_type": "execute_result"
    }
   ],
   "source": [
    "np.arange (10, dtype=float)"
   ]
  },
  {
   "cell_type": "code",
   "execution_count": 33,
   "id": "8ea927db-b97b-4237-8da4-d3152c215546",
   "metadata": {},
   "outputs": [
    {
     "data": {
      "text/plain": [
       "array([2, 4, 6, 8])"
      ]
     },
     "execution_count": 33,
     "metadata": {},
     "output_type": "execute_result"
    }
   ],
   "source": [
    "np.arange (2,10,2)"
   ]
  },
  {
   "cell_type": "code",
   "execution_count": 34,
   "id": "ba93b966-8746-427d-8292-dc3f957fcf0d",
   "metadata": {},
   "outputs": [
    {
     "data": {
      "text/plain": [
       "array([2. , 2.4, 2.8, 3.2, 3.6, 4. ])"
      ]
     },
     "execution_count": 34,
     "metadata": {},
     "output_type": "execute_result"
    }
   ],
   "source": [
    "np.linspace (2.,4. ,6)"
   ]
  },
  {
   "cell_type": "markdown",
   "id": "d01eea00-0c10-4ba3-a7a7-5baf2b54ecf7",
   "metadata": {},
   "source": [
    "np.arange () does not include the value stop. The advantage of this creation function is that you guarantee the number of elements and the starting and end point. The previous arange(start, stop, step) will not include the value stop."
   ]
  },
  {
   "cell_type": "markdown",
   "id": "9eea98e3-8fe8-4d4a-ad56-7a25e1ab5415",
   "metadata": {},
   "source": [
    "### 2D Array Creation numpy.eye, numpy.diag, and numpy.vander define properties of special matrices represented as 2D arrays."
   ]
  },
  {
   "cell_type": "code",
   "execution_count": 35,
   "id": "83e79550-7c74-4094-bab6-280f90f57b93",
   "metadata": {},
   "outputs": [
    {
     "data": {
      "text/plain": [
       "array([[1., 0., 0.],\n",
       "       [0., 1., 0.],\n",
       "       [0., 0., 1.]])"
      ]
     },
     "execution_count": 35,
     "metadata": {},
     "output_type": "execute_result"
    }
   ],
   "source": [
    "np.eye(3)"
   ]
  },
  {
   "cell_type": "code",
   "execution_count": 36,
   "id": "d2b8ef4d-57a3-49ae-98e0-36478519c527",
   "metadata": {},
   "outputs": [
    {
     "data": {
      "text/plain": [
       "array([[1., 0., 0., 0., 0.],\n",
       "       [0., 1., 0., 0., 0.],\n",
       "       [0., 0., 1., 0., 0.]])"
      ]
     },
     "execution_count": 36,
     "metadata": {},
     "output_type": "execute_result"
    }
   ],
   "source": [
    "np.eye(3,5)"
   ]
  },
  {
   "cell_type": "markdown",
   "id": "28969e92-7cb9-4963-8e60-56bb0f192b77",
   "metadata": {},
   "source": [
    "numpy.diag can define either a square 2D array with given values along the diagonal or if given a 2D array returns a 1D array that is only the diagonal elements. The two array creation functions can be helpful while doing linear algebra,"
   ]
  },
  {
   "cell_type": "code",
   "execution_count": 39,
   "id": "9cda6a48-a4a9-4665-a192-ccfdf63da6a7",
   "metadata": {},
   "outputs": [
    {
     "data": {
      "text/plain": [
       "array([[1, 0, 0],\n",
       "       [0, 2, 0],\n",
       "       [0, 0, 3]])"
      ]
     },
     "execution_count": 39,
     "metadata": {},
     "output_type": "execute_result"
    }
   ],
   "source": [
    "np.diag([1,2,3])"
   ]
  },
  {
   "cell_type": "code",
   "execution_count": 40,
   "id": "9cdebb25-7035-4d2b-923a-2ee1df359c1b",
   "metadata": {},
   "outputs": [
    {
     "data": {
      "text/plain": [
       "array([[1, 0, 0, 0],\n",
       "       [0, 2, 0, 0],\n",
       "       [0, 0, 3, 0],\n",
       "       [0, 0, 0, 4]])"
      ]
     },
     "execution_count": 40,
     "metadata": {},
     "output_type": "execute_result"
    }
   ],
   "source": [
    "np.diag([1,2,3,4])"
   ]
  },
  {
   "cell_type": "code",
   "execution_count": 48,
   "id": "ae89313b-cbb5-444c-b0e3-d48cde974fc5",
   "metadata": {},
   "outputs": [
    {
     "data": {
      "text/plain": [
       "array([[0, 0, 1, 0, 0],\n",
       "       [0, 0, 0, 2, 0],\n",
       "       [0, 0, 0, 0, 3],\n",
       "       [0, 0, 0, 0, 0],\n",
       "       [0, 0, 0, 0, 0]])"
      ]
     },
     "execution_count": 48,
     "metadata": {},
     "output_type": "execute_result"
    }
   ],
   "source": [
    "np.diag([1,2,3],2)"
   ]
  },
  {
   "cell_type": "markdown",
   "id": "c1987b54-860c-46ee-ba43-337e45555d7c",
   "metadata": {},
   "source": [
    "vander(x, n) defines a Vandermonde matrix as a 2D NumPy array. Each column of the Vandermonde matrix is a decreasing power of the input 1D array or list or tuple, x where the highest polynomial order is n-1. This array creation routine is helpful in generating linear least squares models, as such:"
   ]
  },
  {
   "cell_type": "code",
   "execution_count": 49,
   "id": "223c5e76-44b2-41fb-877a-32084c7a3a52",
   "metadata": {},
   "outputs": [
    {
     "data": {
      "text/plain": [
       "array([[0. , 1. ],\n",
       "       [0.5, 1. ],\n",
       "       [1. , 1. ],\n",
       "       [1.5, 1. ],\n",
       "       [2. , 1. ]])"
      ]
     },
     "execution_count": 49,
     "metadata": {},
     "output_type": "execute_result"
    }
   ],
   "source": [
    "np.vander(np.linspace(0, 2, 5), 2)"
   ]
  },
  {
   "cell_type": "code",
   "execution_count": 50,
   "id": "adee3495-7dcd-4d17-8920-b9f7f24413fd",
   "metadata": {},
   "outputs": [
    {
     "data": {
      "text/plain": [
       "array([[1, 1],\n",
       "       [2, 1],\n",
       "       [3, 1],\n",
       "       [4, 1]])"
      ]
     },
     "execution_count": 50,
     "metadata": {},
     "output_type": "execute_result"
    }
   ],
   "source": [
    "np.vander([1, 2, 3, 4], 2)"
   ]
  },
  {
   "cell_type": "code",
   "execution_count": 51,
   "id": "a24f5bcc-1dc5-46fc-97af-980bcbe2df5a",
   "metadata": {},
   "outputs": [
    {
     "data": {
      "text/plain": [
       "array([[ 1,  1,  1,  1],\n",
       "       [ 8,  4,  2,  1],\n",
       "       [27,  9,  3,  1],\n",
       "       [64, 16,  4,  1]])"
      ]
     },
     "execution_count": 51,
     "metadata": {},
     "output_type": "execute_result"
    }
   ],
   "source": [
    "np.vander((1, 2, 3, 4), 4)"
   ]
  },
  {
   "cell_type": "markdown",
   "id": "1769a2f1-970d-451e-a40b-0c0337e54c8e",
   "metadata": {},
   "source": [
    "The random method of the result of default_rng will create an array filled with random values between 0 and 1. It is included with the numpy.random library. Below, two arrays are created with shapes (2,3) and (2,3,2), respectively. The seed is set to 42 so you can reproduce these pseudorandom numbers:"
   ]
  },
  {
   "cell_type": "code",
   "execution_count": 52,
   "id": "91daae96-2569-4cb1-b1c0-4eb1fac8aa6b",
   "metadata": {},
   "outputs": [
    {
     "data": {
      "text/plain": [
       "array([[0.77395605, 0.43887844, 0.85859792],\n",
       "       [0.69736803, 0.09417735, 0.97562235]])"
      ]
     },
     "execution_count": 52,
     "metadata": {},
     "output_type": "execute_result"
    }
   ],
   "source": [
    "from numpy.random import default_rng\n",
    "default_rng(42).random((2,3))"
   ]
  },
  {
   "cell_type": "code",
   "execution_count": 53,
   "id": "a04d745e-3768-4a2d-80d4-88a2a1318647",
   "metadata": {},
   "outputs": [
    {
     "data": {
      "text/plain": [
       "array([[[0.77395605, 0.43887844],\n",
       "        [0.85859792, 0.69736803],\n",
       "        [0.09417735, 0.97562235]],\n",
       "\n",
       "       [[0.7611397 , 0.78606431],\n",
       "        [0.12811363, 0.45038594],\n",
       "        [0.37079802, 0.92676499]]])"
      ]
     },
     "execution_count": 53,
     "metadata": {},
     "output_type": "execute_result"
    }
   ],
   "source": [
    "from numpy.random import default_rng\n",
    "default_rng(42).random((2,3,2))"
   ]
  },
  {
   "cell_type": "markdown",
   "id": "299a17e1-8ed4-467a-8b2d-1a542be6b843",
   "metadata": {},
   "source": [
    "numpy.indices will create a set of arrays (stacked as a one-higher dimensioned array), one per dimension with each representing variation in that dimension:"
   ]
  },
  {
   "cell_type": "code",
   "execution_count": 54,
   "id": "4ac1f811-aae9-4669-bdd0-3c39db1b44df",
   "metadata": {},
   "outputs": [
    {
     "data": {
      "text/plain": [
       "array([[[0, 0, 0],\n",
       "        [1, 1, 1]],\n",
       "\n",
       "       [[0, 1, 2],\n",
       "        [0, 1, 2]]])"
      ]
     },
     "execution_count": 54,
     "metadata": {},
     "output_type": "execute_result"
    }
   ],
   "source": [
    "import numpy as np\n",
    "np.indices((2,3))"
   ]
  },
  {
   "cell_type": "code",
   "execution_count": 73,
   "id": "ccead232-d0fc-48a1-842f-a2f8309aab8f",
   "metadata": {},
   "outputs": [
    {
     "data": {
      "text/plain": [
       "array([[[[0, 0],\n",
       "         [0, 0]],\n",
       "\n",
       "        [[1, 1],\n",
       "         [1, 1]]],\n",
       "\n",
       "\n",
       "       [[[0, 0],\n",
       "         [1, 1]],\n",
       "\n",
       "        [[0, 0],\n",
       "         [1, 1]]],\n",
       "\n",
       "\n",
       "       [[[0, 1],\n",
       "         [0, 1]],\n",
       "\n",
       "        [[0, 1],\n",
       "         [0, 1]]]])"
      ]
     },
     "execution_count": 73,
     "metadata": {},
     "output_type": "execute_result"
    }
   ],
   "source": [
    "import numpy as np\n",
    "np.indices((2,2,2))"
   ]
  },
  {
   "cell_type": "code",
   "execution_count": 76,
   "id": "d0241ef5-0ef0-46b2-8bbf-018183cd897b",
   "metadata": {},
   "outputs": [],
   "source": [
    "x = np.arange(10)\n",
    "x.shape = (2,5)"
   ]
  },
  {
   "cell_type": "code",
   "execution_count": 77,
   "id": "0e489d92-a2d0-4c2f-a990-8bc96db8d88b",
   "metadata": {},
   "outputs": [
    {
     "name": "stdout",
     "output_type": "stream",
     "text": [
      "[[0 1 2 3 4]\n",
      " [5 6 7 8 9]]\n"
     ]
    }
   ],
   "source": [
    "print(x)\n"
   ]
  },
  {
   "cell_type": "code",
   "execution_count": 84,
   "id": "2c22528c-32af-4664-ba9c-29c824784edb",
   "metadata": {},
   "outputs": [
    {
     "data": {
      "text/plain": [
       "7"
      ]
     },
     "execution_count": 84,
     "metadata": {},
     "output_type": "execute_result"
    }
   ],
   "source": [
    "x[1,2]"
   ]
  }
 ],
 "metadata": {
  "kernelspec": {
   "display_name": "Python 3 (ipykernel)",
   "language": "python",
   "name": "python3"
  },
  "language_info": {
   "codemirror_mode": {
    "name": "ipython",
    "version": 3
   },
   "file_extension": ".py",
   "mimetype": "text/x-python",
   "name": "python",
   "nbconvert_exporter": "python",
   "pygments_lexer": "ipython3",
   "version": "3.12.3"
  }
 },
 "nbformat": 4,
 "nbformat_minor": 5
}
